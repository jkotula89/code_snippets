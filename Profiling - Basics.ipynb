{
 "cells": [
  {
   "cell_type": "markdown",
   "metadata": {},
   "source": [
    "# Simple Timing"
   ]
  },
  {
   "cell_type": "code",
   "execution_count": 1,
   "metadata": {},
   "outputs": [],
   "source": [
    "import numpy as np\n",
    "%timeit np.arange(5000)"
   ]
  },
  {
   "cell_type": "markdown",
   "metadata": {},
   "source": [
    "# CProfile"
   ]
  },
  {
   "cell_type": "code",
   "execution_count": 43,
   "metadata": {},
   "outputs": [],
   "source": [
    "#https://docs.python.org/3/library/profile.html\n",
    "\n",
    "import cProfile\n",
    "\n",
    "def my_func(x):\n",
    "    y = [_ for i in range(x)]\n",
    "    z = (_ for i in range(x))\n",
    "    return True"
   ]
  },
  {
   "cell_type": "code",
   "execution_count": 44,
   "metadata": {},
   "outputs": [],
   "source": [
    "cProfile.run(\"my_func(5000000)\", 'restats')"
   ]
  },
  {
   "cell_type": "code",
   "execution_count": 45,
   "metadata": {},
   "outputs": [
    {
     "name": "stdout",
     "output_type": "stream",
     "text": [
      "Thu Jun  6 21:35:45 2019    restats\n",
      "\n",
      "         6 function calls in 3.007 seconds\n",
      "\n",
      "   Ordered by: cumulative time\n",
      "\n",
      "   ncalls  tottime  percall  cumtime  percall filename:lineno(function)\n",
      "        1    0.000    0.000    3.007    3.007 {built-in method builtins.exec}\n",
      "        1    0.131    0.131    3.007    3.007 <string>:1(<module>)\n",
      "        1    0.000    0.000    2.876    2.876 <ipython-input-43-df61cf5842ae>:5(my_func)\n",
      "        1    2.876    2.876    2.876    2.876 <ipython-input-43-df61cf5842ae>:6(<listcomp>)\n",
      "        1    0.000    0.000    0.000    0.000 <ipython-input-43-df61cf5842ae>:7(<genexpr>)\n",
      "        1    0.000    0.000    0.000    0.000 {method 'disable' of '_lsprof.Profiler' objects}\n",
      "\n",
      "\n"
     ]
    },
    {
     "data": {
      "text/plain": [
       "<pstats.Stats at 0x22661514518>"
      ]
     },
     "execution_count": 45,
     "metadata": {},
     "output_type": "execute_result"
    }
   ],
   "source": [
    "import pstats\n",
    "p = pstats.Stats('restats')\n",
    "p.sort_stats('cumulative')\n",
    "p.print_stats()"
   ]
  },
  {
   "cell_type": "code",
   "execution_count": 46,
   "metadata": {},
   "outputs": [
    {
     "name": "stdout",
     "output_type": "stream",
     "text": [
      "   Ordered by: cumulative time\n",
      "\n",
      "Function                                          was called by...\n",
      "                                                      ncalls  tottime  cumtime\n",
      "{built-in method builtins.exec}                   <- \n",
      "<string>:1(<module>)                              <-       1    0.131    3.007  {built-in method builtins.exec}\n",
      "<ipython-input-43-df61cf5842ae>:5(my_func)        <-       1    0.000    2.876  <string>:1(<module>)\n",
      "<ipython-input-43-df61cf5842ae>:6(<listcomp>)     <-       1    2.876    2.876  <ipython-input-43-df61cf5842ae>:5(my_func)\n",
      "<ipython-input-43-df61cf5842ae>:7(<genexpr>)      <-       1    0.000    0.000  <string>:1(<module>)\n",
      "{method 'disable' of '_lsprof.Profiler' objects}  <- \n",
      "\n",
      "\n"
     ]
    },
    {
     "data": {
      "text/plain": [
       "<pstats.Stats at 0x22661514518>"
      ]
     },
     "execution_count": 46,
     "metadata": {},
     "output_type": "execute_result"
    }
   ],
   "source": [
    "p.print_callers()"
   ]
  },
  {
   "cell_type": "code",
   "execution_count": 47,
   "metadata": {
    "scrolled": true
   },
   "outputs": [
    {
     "name": "stdout",
     "output_type": "stream",
     "text": [
      "   Ordered by: cumulative time\n",
      "\n",
      "Function                                          called...\n",
      "                                                      ncalls  tottime  cumtime\n",
      "{built-in method builtins.exec}                   ->       1    0.131    3.007  <string>:1(<module>)\n",
      "<string>:1(<module>)                              ->       1    0.000    2.876  <ipython-input-43-df61cf5842ae>:5(my_func)\n",
      "                                                           1    0.000    0.000  <ipython-input-43-df61cf5842ae>:7(<genexpr>)\n",
      "<ipython-input-43-df61cf5842ae>:5(my_func)        ->       1    2.876    2.876  <ipython-input-43-df61cf5842ae>:6(<listcomp>)\n",
      "<ipython-input-43-df61cf5842ae>:6(<listcomp>)     -> \n",
      "<ipython-input-43-df61cf5842ae>:7(<genexpr>)      -> \n",
      "{method 'disable' of '_lsprof.Profiler' objects}  -> \n",
      "\n",
      "\n"
     ]
    },
    {
     "data": {
      "text/plain": [
       "<pstats.Stats at 0x22661514518>"
      ]
     },
     "execution_count": 47,
     "metadata": {},
     "output_type": "execute_result"
    }
   ],
   "source": [
    "p.print_callees()"
   ]
  },
  {
   "cell_type": "markdown",
   "metadata": {},
   "source": [
    "# Line_profiler"
   ]
  },
  {
   "cell_type": "code",
   "execution_count": 2,
   "metadata": {},
   "outputs": [
    {
     "name": "stdout",
     "output_type": "stream",
     "text": [
      "Timer unit: 1e-07 s\n",
      "\n",
      "Total time: 0.0005485 s\n",
      "File: <ipython-input-2-34ce7046e1ee>\n",
      "Function: do_stuff at line 4\n",
      "\n",
      "Line #      Hits         Time  Per Hit   % Time  Line Contents\n",
      "==============================================================\n",
      "     4                                           def do_stuff(numbers):\n",
      "     5         1         92.0     92.0      1.7      s = sum(numbers)\n",
      "     6         1       1896.0   1896.0     34.6      l = [numbers[i]/43 for i in range(len(numbers))]\n",
      "     7         1       3497.0   3497.0     63.8      m = ['hello'+str(numbers[i]) for i in range(len(numbers))]\n",
      "\n"
     ]
    }
   ],
   "source": [
    "#https://stackoverflow.com/questions/23885147/how-do-i-use-line-profiler-from-robert-kern\n",
    "    \n",
    "from line_profiler import LineProfiler\n",
    "import random\n",
    "\n",
    "def do_stuff(numbers):\n",
    "    s = sum(numbers)\n",
    "    l = [numbers[i]/43 for i in range(len(numbers))]\n",
    "    m = ['hello'+str(numbers[i]) for i in range(len(numbers))]\n",
    "\n",
    "numbers = [random.randint(1,100) for i in range(1000)]\n",
    "\n",
    "lp = LineProfiler()\n",
    "lp_wrapper = lp(do_stuff)\n",
    "lp_wrapper(numbers)\n",
    "lp.print_stats()"
   ]
  },
  {
   "cell_type": "markdown",
   "metadata": {},
   "source": [
    "# Memory_profiler"
   ]
  },
  {
   "cell_type": "code",
   "execution_count": 3,
   "metadata": {},
   "outputs": [
    {
     "name": "stdout",
     "output_type": "stream",
     "text": [
      "ERROR: Could not find file <ipython-input-3-3307be867d00>\n",
      "NOTE: %mprun can only be used on functions defined in physical files, and not in the IPython environment.\n",
      "end\n"
     ]
    }
   ],
   "source": [
    "#https://pypi.org/project/memory-profiler/\n",
    "\n",
    "from memory_profiler import profile\n",
    "import random\n",
    "\n",
    "@profile(precision=4)\n",
    "def do_stuff(numbers):\n",
    "    s = sum(numbers)\n",
    "    l = [numbers[i]/43 for i in range(len(numbers))]\n",
    "    m = ['hello'+str(numbers[i]) for i in range(len(numbers))]\n",
    "\n",
    "numbers = [random.randint(1,100) for i in range(1000)]\n",
    "\n",
    "if __name__ == '__main__':\n",
    "    do_stuff(numbers)\n",
    "    print('end')"
   ]
  },
  {
   "cell_type": "code",
   "execution_count": 26,
   "metadata": {},
   "outputs": [],
   "source": [
    "%run memory_profile_example.py"
   ]
  },
  {
   "cell_type": "code",
   "execution_count": 27,
   "metadata": {},
   "outputs": [],
   "source": [
    "# for plotting, use the anaconda console\n",
    "\n",
    "#mprof run <script>\n",
    "#mprof plot\n",
    "\n",
    "# for timestamps in the plot, run script once with \"from memory_profiler import profile\", \n",
    "# once without \"from memory_profiler import profile\""
   ]
  },
  {
   "cell_type": "markdown",
   "metadata": {},
   "source": [
    "# Heapy"
   ]
  },
  {
   "cell_type": "code",
   "execution_count": null,
   "metadata": {},
   "outputs": [],
   "source": [
    "!{sys.executable} -m pip install guppy\n",
    "\n",
    "from guppy import hpy\n",
    "hp = hpy()\n",
    "h = hp.head()\n",
    "print(h)\n",
    "\n",
    "# [...] code\n",
    "\n",
    "h = hp.head()\n",
    "print(h, ' after code')"
   ]
  },
  {
   "cell_type": "code",
   "execution_count": null,
   "metadata": {},
   "outputs": [],
   "source": [
    "# tbc"
   ]
  },
  {
   "cell_type": "code",
   "execution_count": null,
   "metadata": {},
   "outputs": [],
   "source": []
  },
  {
   "cell_type": "markdown",
   "metadata": {},
   "source": [
    "# dis module"
   ]
  },
  {
   "cell_type": "code",
   "execution_count": 21,
   "metadata": {},
   "outputs": [],
   "source": [
    "import dis\n",
    "\n",
    "def do_stuff2(numbers):\n",
    "    s = sum(numbers)\n",
    "    #l = [numbers[i]/43 for i in range(len(numbers))]\n",
    "    #m = ['hello'+str(numbers[i]) for i in range(len(numbers))]\n",
    "\n",
    "numbers = [random.randint(1,100) for i in range(1000)]"
   ]
  },
  {
   "cell_type": "code",
   "execution_count": 22,
   "metadata": {},
   "outputs": [
    {
     "name": "stdout",
     "output_type": "stream",
     "text": [
      "  4           0 LOAD_GLOBAL              0 (sum)\n",
      "              2 LOAD_DEREF               0 (numbers)\n",
      "              4 CALL_FUNCTION            1\n",
      "              6 STORE_FAST               1 (s)\n",
      "\n",
      "  5           8 LOAD_CLOSURE             0 (numbers)\n",
      "             10 BUILD_TUPLE              1\n",
      "             12 LOAD_CONST               1 (<code object <listcomp> at 0x00000212827E4DB0, file \"<ipython-input-15-8a73c07d0fbd>\", line 5>)\n",
      "             14 LOAD_CONST               2 ('do_stuff2.<locals>.<listcomp>')\n",
      "             16 MAKE_FUNCTION            8\n",
      "             18 LOAD_GLOBAL              1 (range)\n",
      "             20 LOAD_GLOBAL              2 (len)\n",
      "             22 LOAD_DEREF               0 (numbers)\n",
      "    -->      24 CALL_FUNCTION            1\n",
      "             26 CALL_FUNCTION            1\n",
      "             28 GET_ITER\n",
      "             30 CALL_FUNCTION            1\n",
      "             32 STORE_FAST               2 (l)\n",
      "\n",
      "  6          34 LOAD_CLOSURE             0 (numbers)\n",
      "             36 BUILD_TUPLE              1\n",
      "             38 LOAD_CONST               3 (<code object <listcomp> at 0x00000212827E4D20, file \"<ipython-input-15-8a73c07d0fbd>\", line 6>)\n",
      "             40 LOAD_CONST               2 ('do_stuff2.<locals>.<listcomp>')\n",
      "             42 MAKE_FUNCTION            8\n",
      "             44 LOAD_GLOBAL              1 (range)\n",
      "             46 LOAD_GLOBAL              2 (len)\n",
      "             48 LOAD_DEREF               0 (numbers)\n",
      "             50 CALL_FUNCTION            1\n",
      "             52 CALL_FUNCTION            1\n",
      "             54 GET_ITER\n",
      "             56 CALL_FUNCTION            1\n",
      "             58 STORE_FAST               3 (m)\n",
      "             60 LOAD_CONST               0 (None)\n",
      "             62 RETURN_VALUE\n"
     ]
    }
   ],
   "source": [
    "dis.dis(do_stuff2(numbers))"
   ]
  }
 ],
 "metadata": {
  "kernelspec": {
   "display_name": "Python 3",
   "language": "python",
   "name": "python3"
  },
  "language_info": {
   "codemirror_mode": {
    "name": "ipython",
    "version": 3
   },
   "file_extension": ".py",
   "mimetype": "text/x-python",
   "name": "python",
   "nbconvert_exporter": "python",
   "pygments_lexer": "ipython3",
   "version": "3.6.8"
  }
 },
 "nbformat": 4,
 "nbformat_minor": 2
}
